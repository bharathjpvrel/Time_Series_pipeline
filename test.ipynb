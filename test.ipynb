{
 "cells": [
  {
   "cell_type": "code",
   "execution_count": 12,
   "id": "dfccb73b",
   "metadata": {},
   "outputs": [],
   "source": [
    "from src.logger import logging\n",
    "\n",
    "logging.info(\"hi test logging\")"
   ]
  },
  {
   "cell_type": "code",
   "execution_count": 13,
   "id": "8e21fe7c",
   "metadata": {},
   "outputs": [
    {
     "name": "stdout",
     "output_type": "stream",
     "text": [
      "hi how are you\n"
     ]
    }
   ],
   "source": [
    "from src.exception import TSException\n",
    "import sys\n",
    "try:\n",
    "    os.path.join(\"a\", \"b\")\n",
    "    print(\"hi how are you\")\n",
    "\n",
    "except Exception as e:\n",
    "    raise TSException(e, sys)"
   ]
  },
  {
   "cell_type": "code",
   "execution_count": null,
   "id": "50d4fe3a",
   "metadata": {},
   "outputs": [
    {
     "name": "stdout",
     "output_type": "stream",
     "text": [
      "transaction_v4_minimal_02.csv 6839\n"
     ]
    }
   ],
   "source": []
  },
  {
   "cell_type": "code",
   "execution_count": 15,
   "id": "5f093ea3",
   "metadata": {},
   "outputs": [
    {
     "data": {
      "text/plain": [
       "True"
      ]
     },
     "execution_count": 15,
     "metadata": {},
     "output_type": "execute_result"
    }
   ],
   "source": [
    "from dotenv import load_dotenv\n",
    "from src.utils.s3_utils import *\n",
    "load_dotenv()"
   ]
  },
  {
   "cell_type": "code",
   "execution_count": 7,
   "id": "18e5390f",
   "metadata": {},
   "outputs": [
    {
     "name": "stdout",
     "output_type": "stream",
     "text": [
      "Hello S3!\n"
     ]
    }
   ],
   "source": [
    "# Write & read\n",
    "s3_write_text(\"s3://timeseries-pipeline/hello.txt\", \"Hello S3!\")\n",
    "print(s3_read_text(\"s3://timeseries-pipeline/hello.txt\"))\n",
    "# s3://timeseries-pipeline/transaction_v4_minimal_02.csv"
   ]
  },
  {
   "cell_type": "code",
   "execution_count": 9,
   "id": "6b3fa1c5",
   "metadata": {},
   "outputs": [],
   "source": [
    "# JSON\n",
    "s3_write_json(\"s3://timeseries-pipeline/config.json\", {\"a\": 1})\n",
    "cfg = s3_read_json(\"s3://timeseries-pipeline/config.json\")\n"
   ]
  },
  {
   "cell_type": "code",
   "execution_count": null,
   "id": "92a0b1cf",
   "metadata": {},
   "outputs": [],
   "source": [
    "# Upload / Download\n",
    "s3_upload_file(\"setup.py\", \"s3://timeseries-pipeline/setup.py\")\n",
    "s3_download_file(\"s3://timeseries-pipeline/setup.py\", \"setup_downloaded.py\")\n"
   ]
  },
  {
   "cell_type": "code",
   "execution_count": 20,
   "id": "7631c6a8",
   "metadata": {},
   "outputs": [
    {
     "name": "stdout",
     "output_type": "stream",
     "text": [
      "s3://timeseries-pipeline/Image (1).png \t 219021\n",
      "s3://timeseries-pipeline/config.json \t 12\n",
      "s3://timeseries-pipeline/hello.txt \t 9\n",
      "s3://timeseries-pipeline/setup.py \t 149\n",
      "s3://timeseries-pipeline/transaction_v4_minimal_02.csv \t 6839\n"
     ]
    }
   ],
   "source": [
    "# List\n",
    "for obj in s3_list(\"s3://timeseries-pipeline/\", recursive=True):\n",
    "    print(obj.uri, '\\t', obj.size)\n"
   ]
  },
  {
   "cell_type": "code",
   "execution_count": null,
   "id": "a07e48a1",
   "metadata": {},
   "outputs": [],
   "source": [
    "\n",
    "\n",
    "\n",
    "# Copy / Move / Delete\n",
    "s3_copy(\"s3://my-bucket/demo/hello.txt\", \"s3://my-bucket/demo/hello_copy.txt\")\n",
    "s3_move(\"s3://my-bucket/demo/hello_copy.txt\", \"s3://my-bucket/demo/archive/hello.txt\")\n",
    "s3_delete_prefix(\"s3://my-bucket/demo/tmp/\")\n",
    "\n",
    "# Presigned URL\n",
    "url = s3_presigned_url(\"s3://my-bucket/demo/hello.txt\", expires_in=900, method=\"get\")\n",
    "\n",
    "# Sync (simple)\n",
    "s3_sync_dir_to_prefix(\"./data\", \"s3://my-bucket/datasets/myrun/\")\n",
    "s3_sync_prefix_to_dir(\"s3://my-bucket/datasets/myrun/\", \"./restore\")\n",
    "\n",
    "# Pandas (optional)\n",
    "df = s3_read_csv_df(\"s3://my-bucket/data/file.csv\")\n",
    "s3_write_parquet_df(\"s3://my-bucket/data/file.parquet\", df)\n"
   ]
  }
 ],
 "metadata": {
  "kernelspec": {
   "display_name": "Time_Series_pipeline (3.13.5)",
   "language": "python",
   "name": "python3"
  },
  "language_info": {
   "codemirror_mode": {
    "name": "ipython",
    "version": 3
   },
   "file_extension": ".py",
   "mimetype": "text/x-python",
   "name": "python",
   "nbconvert_exporter": "python",
   "pygments_lexer": "ipython3",
   "version": "3.13.5"
  }
 },
 "nbformat": 4,
 "nbformat_minor": 5
}
